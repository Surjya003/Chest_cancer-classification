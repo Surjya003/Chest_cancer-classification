{
 "cells": [
  {
   "cell_type": "code",
   "execution_count": 1,
   "metadata": {},
   "outputs": [],
   "source": [
    "d= {\"key\":\"value\",\"key1\":\"value1\"}\n"
   ]
  },
  {
   "cell_type": "code",
   "execution_count": 5,
   "metadata": {},
   "outputs": [],
   "source": [
    "\n",
    "\n",
    "import gdown\n",
    "\n",
    "url = \"https://drive.google.com/file/d/1M4kNuqAYjQnTZRFrcKO-d52HTvAXD27p/view?usp=sharing\" \n",
    "\n",
    "\n",
    "\n",
    "\n"
   ]
  },
  {
   "cell_type": "code",
   "execution_count": 7,
   "metadata": {},
   "outputs": [
    {
     "data": {
      "text/plain": [
       "'1M4kNuqAYjQnTZRFrcKO-d52HTvAXD27p'"
      ]
     },
     "execution_count": 7,
     "metadata": {},
     "output_type": "execute_result"
    }
   ],
   "source": [
    "File_id=url.split(\"/\")[-2]\n",
    "File_id"
   ]
  },
  {
   "cell_type": "code",
   "execution_count": 11,
   "metadata": {},
   "outputs": [
    {
     "name": "stderr",
     "output_type": "stream",
     "text": [
      "Downloading...\n",
      "From: https://drive.google.com/uc?/export=download&id1M4kNuqAYjQnTZRFrcKO-d52HTvAXD27p\n",
      "To: c:\\Users\\surjy\\OneDrive\\Desktop\\chest_cancer.py\\research\\Data\n",
      "1.69kB [00:00, ?B/s]\n"
     ]
    },
    {
     "data": {
      "text/plain": [
       "'Data'"
      ]
     },
     "execution_count": 11,
     "metadata": {},
     "output_type": "execute_result"
    }
   ],
   "source": [
    "##prefix=url = f\"https://drive.google.com/uc?/export=download&id\"\n",
    "##gdown.download(prefix+File_id,\"Data\")"
   ]
  },
  {
   "cell_type": "code",
   "execution_count": 12,
   "metadata": {},
   "outputs": [
    {
     "name": "stderr",
     "output_type": "stream",
     "text": [
      "Downloading...\n",
      "From (original): https://drive.google.com/uc?id=1M4kNuqAYjQnTZRFrcKO-d52HTvAXD27p\n",
      "From (redirected): https://drive.google.com/uc?id=1M4kNuqAYjQnTZRFrcKO-d52HTvAXD27p&confirm=t&uuid=c321baaf-d765-4213-8580-b59ea42154da\n",
      "To: c:\\Users\\surjy\\OneDrive\\Desktop\\chest_cancer.py\\research\\Data.zip\n",
      "100%|██████████| 124M/124M [00:06<00:00, 20.1MB/s] \n"
     ]
    },
    {
     "data": {
      "text/plain": [
       "'Data.zip'"
      ]
     },
     "execution_count": 12,
     "metadata": {},
     "output_type": "execute_result"
    }
   ],
   "source": [
    "import gdown\n",
    "\n",
    "file_id = \"1M4kNuqAYjQnTZRFrcKO-d52HTvAXD27p\"\n",
    "url = f\"https://drive.google.com/uc?id={file_id}\"\n",
    "output = \"Data.zip\"  # Specify the output file name\n",
    "gdown.download(url, output, quiet=False)\n"
   ]
  }
 ],
 "metadata": {
  "kernelspec": {
   "display_name": "Python 3",
   "language": "python",
   "name": "python3"
  },
  "language_info": {
   "codemirror_mode": {
    "name": "ipython",
    "version": 3
   },
   "file_extension": ".py",
   "mimetype": "text/x-python",
   "name": "python",
   "nbconvert_exporter": "python",
   "pygments_lexer": "ipython3",
   "version": "3.12.3"
  }
 },
 "nbformat": 4,
 "nbformat_minor": 2
}
